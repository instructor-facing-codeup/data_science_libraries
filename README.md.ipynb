{
 "cells": [
  {
   "cell_type": "markdown",
   "id": "a4edeaef",
   "metadata": {},
   "source": [
    "# Data Science Libraries\n",
    "\n",
    "This repo will contain:\n",
    "<br>\n",
    "\n",
    "**General overview**\n",
    "- Lesson\n"
   ]
  },
  {
   "cell_type": "markdown",
   "id": "d09cdff2",
   "metadata": {},
   "source": [
    "### Numpy \n",
    "\n",
    "![](numpy.png)\n",
    "- Lesson\n",
    "- Exercises     \n"
   ]
  },
  {
   "cell_type": "markdown",
   "id": "31c43a78",
   "metadata": {},
   "source": [
    "### Pandas\n",
    "\n",
    "![](Pandas_logo.png)\n",
    "- General overview\n",
    "- Series \n",
    "    - Lesson\n",
    "    - Exercises\n",
    "- Dataframes\n",
    "    - Lesson\n",
    "    - Exercises\n",
    "- Advanced Dataframes\n",
    "    - Lesson\n",
    "    - Exercises"
   ]
  },
  {
   "cell_type": "markdown",
   "id": "0958921f",
   "metadata": {},
   "source": [
    "### Matplotlib\n",
    "![](Matplotlib.png)\n",
    "- Lesson\n",
    "- Exercises"
   ]
  },
  {
   "cell_type": "markdown",
   "id": "83a98b56",
   "metadata": {},
   "source": [
    "### Seaborn\n",
    "![](seaborn.svg)\n",
    "- Lesson\n",
    "- Exercises"
   ]
  },
  {
   "cell_type": "code",
   "execution_count": null,
   "id": "5a593454",
   "metadata": {},
   "outputs": [],
   "source": []
  }
 ],
 "metadata": {
  "kernelspec": {
   "display_name": "Python 3 (ipykernel)",
   "language": "python",
   "name": "python3"
  },
  "language_info": {
   "codemirror_mode": {
    "name": "ipython",
    "version": 3
   },
   "file_extension": ".py",
   "mimetype": "text/x-python",
   "name": "python",
   "nbconvert_exporter": "python",
   "pygments_lexer": "ipython3",
   "version": "3.9.13"
  }
 },
 "nbformat": 4,
 "nbformat_minor": 5
}
